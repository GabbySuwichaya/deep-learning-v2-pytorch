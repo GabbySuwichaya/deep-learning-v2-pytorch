{
 "cells": [
  {
   "cell_type": "markdown",
   "metadata": {},
   "source": [
    "# Classifying Fashion-MNIST\n",
    "\n",
    "Now it's your turn to build and train a neural network. You'll be using the [Fashion-MNIST dataset](https://github.com/zalandoresearch/fashion-mnist), a drop-in replacement for the MNIST dataset. MNIST is actually quite trivial with neural networks where you can easily achieve better than 97% accuracy. Fashion-MNIST is a set of 28x28 greyscale images of clothes. It's more complex than MNIST, so it's a better representation of the actual performance of your network, and a better representation of datasets you'll use in the real world.\n",
    "\n",
    "<img src='assets/fashion-mnist-sprite.png' width=500px>\n",
    "\n",
    "In this notebook, you'll build your own neural network. For the most part, you could just copy and paste the code from Part 3, but you wouldn't be learning. It's important for you to write the code yourself and get it to work. Feel free to consult the previous notebooks though as you work through this.\n",
    "\n",
    "First off, let's load the dataset through torchvision."
   ]
  },
  {
   "cell_type": "code",
   "execution_count": 1,
   "metadata": {},
   "outputs": [],
   "source": [
    "import torch\n",
    "from torchvision import datasets, transforms\n",
    "import helper\n",
    "\n",
    "# Define a transform to normalize the data\n",
    "transform = transforms.Compose([transforms.ToTensor(),\n",
    "                                transforms.Normalize((0.5,), (0.5, ))])\n",
    "# Download and load the training data\n",
    "trainset = datasets.FashionMNIST('~/.pytorch/F_MNIST_data/', download=True, train=True, transform=transform)\n",
    "trainloader = torch.utils.data.DataLoader(trainset, batch_size=64, shuffle=True)\n",
    "\n",
    "# Download and load the test data\n",
    "testset = datasets.FashionMNIST('~/.pytorch/F_MNIST_data/', download=True, train=False, transform=transform)\n",
    "testloader = torch.utils.data.DataLoader(testset, batch_size=64, shuffle=True)"
   ]
  },
  {
   "cell_type": "markdown",
   "metadata": {},
   "source": [
    "Here we can see one of the images."
   ]
  },
  {
   "cell_type": "code",
   "execution_count": 2,
   "metadata": {},
   "outputs": [
    {
     "data": {
      "image/png": "[encoded data removed]",
      "text/plain": [
       "<Figure size 432x288 with 1 Axes>"
      ]
     },
     "metadata": {
      "needs_background": "light"
     },
     "output_type": "display_data"
    }
   ],
   "source": [
    "image, label = next(iter(trainloader))\n",
    "helper.imshow(image[0,:]);"
   ]
  },
  {
   "cell_type": "markdown",
   "metadata": {},
   "source": [
    "## Building the network\n",
    "\n",
    "Here you should define your network. As with MNIST, each image is 28x28 which is a total of 784 pixels, and there are 10 classes. You should include at least one hidden layer. We suggest you use ReLU activations for the layers and to return the logits or log-softmax from the forward pass. It's up to you how many layers you add and the size of those layers."
   ]
  },
  {
   "cell_type": "code",
   "execution_count": 3,
   "metadata": {},
   "outputs": [],
   "source": [
    "# TODO: Define your network architecture here\n",
    "from torch import nn\n",
    "from torch import optim\n",
    "  \n",
    "model = nn.Sequential(nn.Linear(784, 256),\n",
    "                      nn.ReLU(),\n",
    "                      nn.Linear(256, 128),\n",
    "                      nn.ReLU(),\n",
    "                      nn.Linear(128, 64),\n",
    "                      nn.ReLU(),\n",
    "                      nn.Linear(64, 10),\n",
    "                      nn.LogSoftmax(dim=1)) "
   ]
  },
  {
   "cell_type": "markdown",
   "metadata": {},
   "source": [
    "# Train the network\n",
    "\n",
    "Now you should create your network and train it. First you'll want to define [the criterion](http://pytorch.org/docs/master/nn.html#loss-functions) ( something like `nn.CrossEntropyLoss`) and [the optimizer](http://pytorch.org/docs/master/optim.html) (typically `optim.SGD` or `optim.Adam`).\n",
    "\n",
    "Then write the training code. Remember the training pass is a fairly straightforward process:\n",
    "\n",
    "* Make a forward pass through the network to get the logits \n",
    "* Use the logits to calculate the loss\n",
    "* Perform a backward pass through the network with `loss.backward()` to calculate the gradients\n",
    "* Take a step with the optimizer to update the weights\n",
    "\n",
    "By adjusting the hyperparameters (hidden units, learning rate, etc), you should be able to get the training loss below 0.4."
   ]
  },
  {
   "cell_type": "code",
   "execution_count": 4,
   "metadata": {},
   "outputs": [
    {
     "name": "stdout",
     "output_type": "stream",
     "text": [
      "tensor(2.3001, grad_fn=<NllLossBackward>)\n"
     ]
    }
   ],
   "source": [
    "# TODO: Create the network, define the criterion and optimizer\n",
    "criterion = nn.NLLLoss()\n",
    "optimizer = optim.Adam(model.parameters(), lr=0.003)\n",
    "\n",
    "\n",
    "## Test criterion\n",
    "images, labels = next(iter(trainloader))\n",
    "images = images.view(images.shape[0], -1)\n",
    "\n",
    "logits = model(images)\n",
    "loss = criterion(logits, labels); \n",
    "print(loss) "
   ]
  },
  {
   "cell_type": "code",
   "execution_count": 5,
   "metadata": {},
   "outputs": [
    {
     "name": "stdout",
     "output_type": "stream",
     "text": [
      "Training loss: 0.5154702279136888\n",
      "Training loss: 0.38747784064840407\n",
      "Training loss: 0.35624376540658065\n",
      "Training loss: 0.3291641251761903\n",
      "Training loss: 0.3123171758661265\n",
      "Training loss: 0.2996906648074259\n",
      "Training loss: 0.28904839717090003\n",
      "Training loss: 0.27892913042641143\n",
      "Training loss: 0.269457121425346\n",
      "Training loss: 0.2622277909464864\n",
      "Training loss: 0.25703709268334834\n",
      "Training loss: 0.245390358208212\n",
      "Training loss: 0.24379226472427343\n",
      "Training loss: 0.2359933204599408\n",
      "Training loss: 0.23484007051504496\n",
      "Training loss: 0.22990110864850885\n",
      "Training loss: 0.22265501710365831\n",
      "Training loss: 0.2168381311245628\n",
      "Training loss: 0.21806465145319637\n",
      "Training loss: 0.21315793111237255\n"
     ]
    }
   ],
   "source": [
    "# TODO: Train the network here\n",
    "epochs = 20\n",
    "for e in range(epochs):\n",
    "    running_loss = 0\n",
    "    for images, labels in trainloader:\n",
    "        # Flatten MNIST images into a 784 long vector\n",
    "        images = images.view(images.shape[0], -1)\n",
    "        output = model(images)\n",
    "        loss = criterion(output, labels)\n",
    "        \n",
    "        # TODO: Training pass  \n",
    "        optimizer.zero_grad() \n",
    "         \n",
    "        loss.backward()\n",
    "        optimizer.step()\n",
    "        \n",
    "        running_loss += loss.item()\n",
    "    else:\n",
    "        print(f\"Training loss: {running_loss/len(trainloader)}\")"
   ]
  },
  {
   "cell_type": "code",
   "execution_count": 66,
   "metadata": {},
   "outputs": [
    {
     "name": "stdout",
     "output_type": "stream",
     "text": [
      "Iter 0 : Accurate\n",
      "Iter 1 : Accurate\n",
      "Iter 2 : Accurate\n",
      "Iter 3 : Accurate\n",
      "Iter 4 : Accurate\n",
      "Iter 5 : Accurate\n",
      "Iter 6 : Wrong\n",
      "Iter 7 : Accurate\n",
      "Iter 8 : Wrong\n",
      "Iter 9 : Accurate\n",
      "Iter 10 : Accurate\n",
      "Iter 11 : Accurate\n",
      "Iter 12 : Accurate\n",
      "Iter 13 : Accurate\n",
      "Iter 14 : Accurate\n",
      "Iter 15 : Accurate\n",
      "Iter 16 : Accurate\n",
      "Iter 17 : Accurate\n",
      "Iter 18 : Accurate\n",
      "Iter 19 : Wrong\n",
      "Iter 20 : Accurate\n",
      "Iter 21 : Accurate\n",
      "Iter 22 : Accurate\n",
      "Iter 23 : Accurate\n",
      "Iter 24 : Accurate\n",
      "Iter 25 : Accurate\n",
      "Iter 26 : Wrong\n",
      "Iter 27 : Accurate\n",
      "Iter 28 : Accurate\n",
      "Iter 29 : Accurate\n",
      "Iter 30 : Accurate\n",
      "Iter 31 : Accurate\n",
      "Iter 32 : Wrong\n",
      "Iter 33 : Accurate\n",
      "Iter 34 : Accurate\n",
      "Iter 35 : Accurate\n",
      "Iter 36 : Accurate\n",
      "Iter 37 : Accurate\n",
      "Iter 38 : Accurate\n",
      "Iter 39 : Wrong\n",
      "Iter 40 : Accurate\n",
      "Iter 41 : Accurate\n",
      "Iter 42 : Wrong\n",
      "Iter 43 : Accurate\n",
      "Iter 44 : Accurate\n",
      "Iter 45 : Accurate\n",
      "Iter 46 : Accurate\n",
      "Iter 47 : Accurate\n",
      "Iter 48 : Accurate\n",
      "Iter 49 : Accurate\n",
      "Iter 50 : Accurate\n",
      "Iter 51 : Accurate\n",
      "Iter 52 : Accurate\n",
      "Iter 53 : Accurate\n",
      "Iter 54 : Accurate\n",
      "Iter 55 : Accurate\n",
      "Iter 56 : Accurate\n",
      "Iter 57 : Accurate\n",
      "Iter 58 : Accurate\n",
      "Iter 59 : Accurate\n",
      "Iter 60 : Accurate\n",
      "Iter 61 : Wrong\n",
      "Iter 62 : Accurate\n",
      "Iter 63 : Wrong\n",
      "Hit Rate 0.859375\n",
      "F1-scores 0.865297\n"
     ]
    },
    {
     "data": {
      "image/png": "[encoded data removed]",
      "text/plain": [
       "<Figure size 432x648 with 2 Axes>"
      ]
     },
     "metadata": {
      "image/png": {
       "height": 206,
       "width": 423
      },
      "needs_background": "light"
     },
     "output_type": "display_data"
    }
   ],
   "source": [
    "%matplotlib inline\n",
    "%config InlineBackend.figure_format = 'retina'\n",
    "\n",
    "import numpy as np\n",
    "import helper\n",
    "\n",
    "# Test out your network!\n",
    "\n",
    "dataiter = iter(testloader)\n",
    "images, labels = dataiter.next()\n",
    "predicted_label = torch.zeros(len(labels), dtype=torch.long) \n",
    "counter = 0\n",
    "with torch.no_grad():\n",
    "    for iteration, (img, label) in enumerate(zip(images,labels)): \n",
    "        # Convert 2D image to 1D vector\n",
    "        img = img.resize_(1, 784)\n",
    "\n",
    "        # TODO: Calculate the class probabilities (softmax) for img\n",
    "        logps = model(img)\n",
    "\n",
    "        # Output of the network are log-probabilities, need to take exponential for probabilities\n",
    "        ps = torch.exp(logps) \n",
    "        predicted_label[iteration] = ps.argmax()\n",
    "        if label == ps.argmax():\n",
    "            print('Iter %d : Accurate' % (iteration)  )\n",
    "            counter = counter +1\n",
    "        else:\n",
    "            print('Iter %d : Wrong' % (iteration)  )\n",
    "        # Plot the image and probabilities\n",
    "\n",
    "helper.view_classify(img.resize_(1, 28, 28), ps, version='Fashion')\n",
    "print('Hit Rate %f' % (np.divide(counter,len(labels))))\n",
    "\n",
    "from sklearn.metrics import f1_score\n",
    "\n",
    "pred_labels = np.array(predicted_label)\n",
    "gt_labels =  np.array(labels) \n",
    "F1_scores = f1_score(gt_labels, pred_labels, average='weighted')  \n",
    "\n",
    "print('F1-scores %f' % (F1_scores))"
   ]
  },
  {
   "cell_type": "code",
   "execution_count": 62,
   "metadata": {},
   "outputs": [
    {
     "data": {
      "text/plain": [
       "array([3, 7, 0, 8, 3, 3, 5, 8, 5, 7, 3, 1, 4, 3, 6, 8, 7, 4, 5, 6, 2, 0,\n",
       "       2, 7, 9, 7, 9, 2, 3, 2, 0, 8, 7, 5, 9, 3, 0, 3, 8, 7, 9, 2, 2, 0,\n",
       "       3, 8, 6, 7, 2, 7, 7, 4, 8, 7, 2, 3, 9, 1, 5, 7, 8, 7, 2, 5],\n",
       "      dtype=int64)"
      ]
     },
     "execution_count": 62,
     "metadata": {},
     "output_type": "execute_result"
    }
   ],
   "source": [
    "np.array(predicted_label)"
   ]
  },
  {
   "cell_type": "code",
   "execution_count": 63,
   "metadata": {},
   "outputs": [
    {
     "data": {
      "text/plain": [
       "array([3, 7, 0, 8, 3, 3, 5, 8, 5, 7, 3, 1, 4, 0, 6, 8, 7, 4, 5, 6, 2, 0,\n",
       "       2, 7, 9, 7, 9, 2, 3, 2, 0, 8, 7, 5, 9, 3, 0, 4, 8, 7, 9, 2, 2, 0,\n",
       "       3, 8, 6, 7, 6, 7, 7, 4, 8, 7, 4, 3, 9, 1, 5, 7, 8, 7, 3, 5],\n",
       "      dtype=int64)"
      ]
     },
     "execution_count": 63,
     "metadata": {},
     "output_type": "execute_result"
    }
   ],
   "source": [
    "np.array(labels) "
   ]
  },
  {
   "cell_type": "code",
   "execution_count": 60,
   "metadata": {},
   "outputs": [
    {
     "data": {
      "text/plain": [
       "60"
      ]
     },
     "execution_count": 60,
     "metadata": {},
     "output_type": "execute_result"
    }
   ],
   "source": [
    "counter"
   ]
  },
  {
   "cell_type": "code",
   "execution_count": 23,
   "metadata": {},
   "outputs": [
    {
     "data": {
      "text/plain": [
       "array([1], dtype=int64)"
      ]
     },
     "execution_count": 23,
     "metadata": {},
     "output_type": "execute_result"
    }
   ],
   "source": [
    "np.array([ps.argmax()])"
   ]
  },
  {
   "cell_type": "code",
   "execution_count": 24,
   "metadata": {},
   "outputs": [
    {
     "data": {
      "text/plain": [
       "tensor(1)"
      ]
     },
     "execution_count": 24,
     "metadata": {},
     "output_type": "execute_result"
    }
   ],
   "source": []
  },
  {
   "cell_type": "code",
   "execution_count": 25,
   "metadata": {},
   "outputs": [
    {
     "data": {
      "text/plain": [
       "tensor(1)"
      ]
     },
     "execution_count": 25,
     "metadata": {},
     "output_type": "execute_result"
    }
   ],
   "source": [
    "ps.argmax()"
   ]
  },
  {
   "cell_type": "code",
   "execution_count": null,
   "metadata": {},
   "outputs": [],
   "source": []
  }
 ],
 "metadata": {
  "kernelspec": {
   "display_name": "Python 3",
   "language": "python",
   "name": "python3"
  },
  "language_info": {
   "codemirror_mode": {
    "name": "ipython",
    "version": 3
   },
   "file_extension": ".py",
   "mimetype": "text/x-python",
   "name": "python",
   "nbconvert_exporter": "python",
   "pygments_lexer": "ipython3",
   "version": "3.7.3"
  }
 },
 "nbformat": 4,
 "nbformat_minor": 2
}
